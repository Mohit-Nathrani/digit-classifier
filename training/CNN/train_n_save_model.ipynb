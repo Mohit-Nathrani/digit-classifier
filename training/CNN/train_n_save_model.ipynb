{
 "cells": [
  {
   "cell_type": "code",
   "execution_count": 1,
   "metadata": {},
   "outputs": [
    {
     "name": "stderr",
     "output_type": "stream",
     "text": [
      "Using TensorFlow backend.\n"
     ]
    }
   ],
   "source": [
    "#importing libraries\n",
    "import pandas as pd\n",
    "import numpy as np\n",
    "\n",
    "from keras.models import Sequential\n",
    "from keras.layers.core import Dense, Dropout, Activation, Flatten\n",
    "from keras.layers import Conv2D, MaxPool2D\n",
    "from keras import optimizers\n",
    "\n",
    "from sklearn.model_selection import train_test_split\n",
    "from sklearn.metrics import confusion_matrix"
   ]
  },
  {
   "cell_type": "code",
   "execution_count": 3,
   "metadata": {},
   "outputs": [],
   "source": [
    "x_train = np.load(\"input_data/x_train_raw.npy\")\n",
    "y_train = np.load(\"input_data/y_train_raw.npy\")\n",
    "x_test = np.load(\"input_data/x_test_raw.npy\")\n",
    "y_test = np.load(\"input_data/y_test_raw.npy\")"
   ]
  },
  {
   "cell_type": "code",
   "execution_count": 4,
   "metadata": {
    "scrolled": true
   },
   "outputs": [
    {
     "data": {
      "image/png": "[encoded data removed]",
      "text/plain": [
       "<matplotlib.figure.Figure at 0x2555246a748>"
      ]
     },
     "metadata": {},
     "output_type": "display_data"
    },
    {
     "name": "stdout",
     "output_type": "stream",
     "text": [
      "[ 0.  0.  0.  0.  0.  0.  0.  0.  1.  0.]\n"
     ]
    }
   ],
   "source": [
    "#visualising data\n",
    "from matplotlib import pyplot as plt\n",
    "%matplotlib inline\n",
    "\n",
    "nth_img = 17\n",
    "plt.imshow(x_train[nth_img].reshape(28,28),cmap ='gray')\n",
    "plt.show()\n",
    "print(y_train[nth_img])"
   ]
  },
  {
   "cell_type": "code",
   "execution_count": 5,
   "metadata": {},
   "outputs": [
    {
     "name": "stdout",
     "output_type": "stream",
     "text": [
      "_________________________________________________________________\n",
      "Layer (type)                 Output Shape              Param #   \n",
      "=================================================================\n",
      "conv2d_1 (Conv2D)            (None, 28, 28, 32)        832       \n",
      "_________________________________________________________________\n",
      "activation_1 (Activation)    (None, 28, 28, 32)        0         \n",
      "_________________________________________________________________\n",
      "max_pooling2d_1 (MaxPooling2 (None, 14, 14, 32)        0         \n",
      "_________________________________________________________________\n",
      "conv2d_2 (Conv2D)            (None, 14, 14, 64)        51264     \n",
      "_________________________________________________________________\n",
      "activation_2 (Activation)    (None, 14, 14, 64)        0         \n",
      "_________________________________________________________________\n",
      "max_pooling2d_2 (MaxPooling2 (None, 7, 7, 64)          0         \n",
      "_________________________________________________________________\n",
      "flatten_1 (Flatten)          (None, 3136)              0         \n",
      "_________________________________________________________________\n",
      "dropout_1 (Dropout)          (None, 3136)              0         \n",
      "_________________________________________________________________\n",
      "dense_1 (Dense)              (None, 10)                31370     \n",
      "_________________________________________________________________\n",
      "activation_3 (Activation)    (None, 10)                0         \n",
      "=================================================================\n",
      "Total params: 83,466\n",
      "Trainable params: 83,466\n",
      "Non-trainable params: 0\n",
      "_________________________________________________________________\n"
     ]
    }
   ],
   "source": [
    "##CNN Architecture\n",
    "model = Sequential()\n",
    "\n",
    "model.add(Conv2D(32, (5,5),padding=\"same\", input_shape=(28,28,1))) #activation = 'relu'\n",
    "model.add(Activation('relu'))\n",
    "\n",
    "model.add(MaxPool2D(pool_size=(2,2)))\n",
    "\n",
    "model.add(Conv2D(64, (5,5),padding=\"same\"))\n",
    "model.add(Activation('relu'))\n",
    "\n",
    "model.add(MaxPool2D(pool_size=(2,2)))\n",
    "\n",
    "model.add(Flatten())\n",
    "model.add(Dropout(0.4))\n",
    "\n",
    "model.add(Dense(10))\n",
    "model.add(Activation('softmax'))\n",
    "\n",
    "model.summary()"
   ]
  },
  {
   "cell_type": "code",
   "execution_count": 6,
   "metadata": {
    "collapsed": true
   },
   "outputs": [],
   "source": [
    "adam = optimizers.Adam(lr=0.00085, beta_1=0.9, beta_2=0.999, epsilon=1e-8)\n",
    "model.compile(loss='categorical_crossentropy',optimizer=adam, metrics = ['accuracy'])"
   ]
  },
  {
   "cell_type": "code",
   "execution_count": 7,
   "metadata": {
    "scrolled": true
   },
   "outputs": [
    {
     "name": "stdout",
     "output_type": "stream",
     "text": [
      "Train on 60000 samples, validate on 10000 samples\n",
      "Epoch 1/8\n",
      "60000/60000 [==============================] - 59s 982us/step - loss: 0.2388 - acc: 0.9298 - val_loss: 0.0610 - val_acc: 0.9803\n",
      "Epoch 2/8\n",
      "60000/60000 [==============================] - 57s 956us/step - loss: 0.0741 - acc: 0.9772 - val_loss: 0.0487 - val_acc: 0.9840\n",
      "Epoch 3/8\n",
      "60000/60000 [==============================] - 58s 959us/step - loss: 0.0532 - acc: 0.9834 - val_loss: 0.0334 - val_acc: 0.9895\n",
      "Epoch 4/8\n",
      "60000/60000 [==============================] - 56s 935us/step - loss: 0.0438 - acc: 0.9860 - val_loss: 0.0300 - val_acc: 0.9893\n",
      "Epoch 5/8\n",
      "60000/60000 [==============================] - 57s 946us/step - loss: 0.0363 - acc: 0.9885 - val_loss: 0.0277 - val_acc: 0.9899\n",
      "Epoch 6/8\n",
      "60000/60000 [==============================] - 57s 948us/step - loss: 0.0319 - acc: 0.9900 - val_loss: 0.0282 - val_acc: 0.9906\n",
      "Epoch 7/8\n",
      "60000/60000 [==============================] - 57s 951us/step - loss: 0.0280 - acc: 0.9908 - val_loss: 0.0262 - val_acc: 0.9910\n",
      "Epoch 8/8\n",
      "60000/60000 [==============================] - 57s 953us/step - loss: 0.0248 - acc: 0.9917 - val_loss: 0.0244 - val_acc: 0.9920\n"
     ]
    }
   ],
   "source": [
    "#training time\n",
    "hist = model.fit(x_train, y_train,\n",
    "                epochs=8, shuffle=True,\n",
    "                batch_size = 100,\n",
    "                validation_data= (x_test, y_test))"
   ]
  },
  {
   "cell_type": "code",
   "execution_count": 8,
   "metadata": {
    "scrolled": true
   },
   "outputs": [
    {
     "data": {
      "image/png": "[encoded data removed]",
      "text/plain": [
       "<matplotlib.figure.Figure at 0x25552c9fac8>"
      ]
     },
     "metadata": {},
     "output_type": "display_data"
    },
    {
     "data": {
      "image/png": "[encoded data removed]",
      "text/plain": [
       "<matplotlib.figure.Figure at 0x25552c9d940>"
      ]
     },
     "metadata": {},
     "output_type": "display_data"
    }
   ],
   "source": [
    "#checking model accuracy and loss\n",
    "hdata = hist.history \n",
    "\n",
    "plt.figure(0)\n",
    "plt.plot(hdata['loss'],'r')\n",
    "plt.plot(hdata['val_loss'],'g')\n",
    "\n",
    "plt.figure(1)\n",
    "plt.plot(hdata['acc'],'r')\n",
    "plt.plot(hdata['val_acc'],'g')\n",
    "\n",
    "plt.show()"
   ]
  },
  {
   "cell_type": "code",
   "execution_count": 22,
   "metadata": {},
   "outputs": [
    {
     "data": {
      "text/plain": [
       "array([[ 975,    0,    1,    0,    0,    0,    2,    0,    1,    1],\n",
       "       [   0, 1132,    1,    0,    0,    0,    0,    2,    0,    0],\n",
       "       [   1,    1, 1022,    0,    1,    0,    0,    5,    2,    0],\n",
       "       [   0,    0,    0, 1006,    0,    3,    0,    0,    0,    1],\n",
       "       [   0,    0,    0,    0,  980,    0,    0,    0,    1,    1],\n",
       "       [   0,    0,    0,    2,    0,  889,    1,    0,    0,    0],\n",
       "       [   2,    2,    0,    0,    1,    1,  952,    0,    0,    0],\n",
       "       [   0,    2,    1,    1,    0,    0,    0, 1021,    1,    2],\n",
       "       [   3,    0,    2,    1,    0,    2,    1,    2,  962,    1],\n",
       "       [   1,    2,    0,    0,   10,    5,    0,    7,    3,  981]], dtype=int64)"
      ]
     },
     "execution_count": 22,
     "metadata": {},
     "output_type": "execute_result"
    }
   ],
   "source": [
    "#constructing confusion matrix:\n",
    "from sklearn.metrics import confusion_matrix\n",
    "\n",
    "prediction = model.predict(x_test)\n",
    "y_prediction=np.array([np.argmax(prediction[i]) for i in range(10000)])\n",
    "y_test = np.load(\"input_data/y_test_raw.npy\")\n",
    "y_test = np.array([np.argmax(y_test[i]) for i in range(10000)])\n",
    "\n",
    "cm = confusion_matrix(y_test, y_prediction)\n",
    "cm"
   ]
  },
  {
   "cell_type": "code",
   "execution_count": 23,
   "metadata": {
    "collapsed": true
   },
   "outputs": [],
   "source": [
    "#saving model\n",
    "model.save('model/digit_classifier_cnn_1.h5')"
   ]
  }
 ],
 "metadata": {
  "kernelspec": {
   "display_name": "Python 3",
   "language": "python",
   "name": "python3"
  },
  "language_info": {
   "codemirror_mode": {
    "name": "ipython",
    "version": 3
   },
   "file_extension": ".py",
   "mimetype": "text/x-python",
   "name": "python",
   "nbconvert_exporter": "python",
   "pygments_lexer": "ipython3",
   "version": "3.5.4"
  }
 },
 "nbformat": 4,
 "nbformat_minor": 2
}
