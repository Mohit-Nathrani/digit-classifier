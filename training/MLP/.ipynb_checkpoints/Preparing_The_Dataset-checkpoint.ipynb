{
 "cells": [
  {
   "cell_type": "markdown",
   "metadata": {},
   "source": [
    "### Load Dataset and visualize what preprocessing will do to it"
   ]
  },
  {
   "cell_type": "code",
   "execution_count": 1,
   "metadata": {},
   "outputs": [
    {
     "name": "stderr",
     "output_type": "stream",
     "text": [
      "Using TensorFlow backend.\n"
     ]
    }
   ],
   "source": [
    "#loading mnist model\n",
    "from keras.datasets import mnist\n",
    "(x_train_raw, y_train_raw), (x_test_raw, y_test_raw) = mnist.load_data()"
   ]
  },
  {
   "cell_type": "code",
   "execution_count": 2,
   "metadata": {
    "scrolled": true
   },
   "outputs": [
    {
     "data": {
      "image/png": "[encoded data removed]",
      "text/plain": [
       "<matplotlib.figure.Figure at 0x230bb0a8160>"
      ]
     },
     "metadata": {},
     "output_type": "display_data"
    }
   ],
   "source": [
    "#visualisation of original data\n",
    "import matplotlib.pyplot as plt\n",
    "%matplotlib inline\n",
    "\n",
    "for i in range(3):\n",
    "    plt.subplot(1,3,i+1)\n",
    "    plt.tight_layout()\n",
    "    plt.imshow(x_train_raw[i],cmap ='gray')\n",
    "    plt.title(\"Digit: \"+str(y_train_raw[i]))\n",
    "plt.show()"
   ]
  },
  {
   "cell_type": "code",
   "execution_count": 3,
   "metadata": {},
   "outputs": [
    {
     "data": {
      "image/png": "[encoded data removed]",
      "text/plain": [
       "<matplotlib.figure.Figure at 0x230bb1a60f0>"
      ]
     },
     "metadata": {},
     "output_type": "display_data"
    }
   ],
   "source": [
    "#visualing how data will look after setting a threshold\n",
    "import cv2\n",
    "th,gray = cv2.threshold(x_train_raw[0:3],127,255,cv2.THRESH_BINARY)\n",
    "\n",
    "#fig = plt.figure()\n",
    "for i in range(3):\n",
    "    plt.subplot(1,3,i+1)\n",
    "    plt.tight_layout()\n",
    "    plt.imshow(gray[i],cmap ='gray')\n",
    "    plt.title(\"Digit: \"+str(y_train_raw[i]))\n",
    "plt.show()"
   ]
  },
  {
   "cell_type": "markdown",
   "metadata": {},
   "source": [
    "### Preprocessing \n",
    "- set a threshold value(to both training and testing data)\n",
    "- reshape to required shape\n",
    "- get binary class matrics"
   ]
  },
  {
   "cell_type": "code",
   "execution_count": 5,
   "metadata": {
    "collapsed": true
   },
   "outputs": [],
   "source": [
    "th,x_train_raw = cv2.threshold(x_train_raw,127,1,cv2.THRESH_BINARY)\n",
    "th,x_test_raw = cv2.threshold(x_test_raw,127,1,cv2.THRESH_BINARY)"
   ]
  },
  {
   "cell_type": "code",
   "execution_count": 7,
   "metadata": {},
   "outputs": [],
   "source": [
    "x_train_raw = x_train_raw.reshape(60000,784)\n",
    "x_test_raw = x_test_raw.reshape(10000,784)\n",
    "\n",
    "# convert class vectors to binary class matrices\n",
    "import keras\n",
    "y_train_raw = keras.utils.to_categorical(y_train_raw, 10)\n",
    "y_test_raw = keras.utils.to_categorical(y_test_raw, 10)"
   ]
  },
  {
   "cell_type": "markdown",
   "metadata": {},
   "source": [
    "### Saving the preprocessed data"
   ]
  },
  {
   "cell_type": "code",
   "execution_count": 9,
   "metadata": {
    "collapsed": true
   },
   "outputs": [],
   "source": [
    "import numpy as np\n",
    "np.save(\"input_data/x_train_raw.npy\",x_train_raw)\n",
    "np.save(\"input_data/x_test_raw.npy\",x_test_raw)\n",
    "np.save(\"input_data/y_train_raw.npy\",y_train_raw)\n",
    "np.save(\"input_data/y_test_raw.npy\",y_test_raw)"
   ]
  }
 ],
 "metadata": {
  "kernelspec": {
   "display_name": "Python 3",
   "language": "python",
   "name": "python3"
  },
  "language_info": {
   "codemirror_mode": {
    "name": "ipython",
    "version": 3
   },
   "file_extension": ".py",
   "mimetype": "text/x-python",
   "name": "python",
   "nbconvert_exporter": "python",
   "pygments_lexer": "ipython3",
   "version": "3.5.4"
  }
 },
 "nbformat": 4,
 "nbformat_minor": 2
}
