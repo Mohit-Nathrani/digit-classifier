{
 "cells": [
  {
   "cell_type": "markdown",
   "metadata": {},
   "source": [
    "### Simple MultiLayer Perceptron for multi-class classification"
   ]
  },
  {
   "cell_type": "code",
   "execution_count": 1,
   "metadata": {},
   "outputs": [
    {
     "name": "stderr",
     "output_type": "stream",
     "text": [
      "Using TensorFlow backend.\n"
     ]
    }
   ],
   "source": [
    "import keras\n",
    "from keras.datasets import mnist\n",
    "from keras.models import Sequential\n",
    "from keras.layers import Dense, Dropout\n",
    "from keras.optimizers import RMSprop\n",
    "import numpy as np\n",
    "\n",
    "batch_size = 128\n",
    "num_classes = 10\n",
    "epochs = 15"
   ]
  },
  {
   "cell_type": "markdown",
   "metadata": {},
   "source": [
    "### import Preprocess Data"
   ]
  },
  {
   "cell_type": "code",
   "execution_count": 19,
   "metadata": {
    "collapsed": true
   },
   "outputs": [],
   "source": [
    "x_train = np.load(\"input_data/x_train_raw.npy\")\n",
    "y_train = np.load(\"input_data/y_train_raw.npy\")\n",
    "x_test = np.load(\"input_data/x_test_raw.npy\")\n",
    "y_test = np.load(\"input_data/y_test_raw.npy\")"
   ]
  },
  {
   "cell_type": "markdown",
   "metadata": {},
   "source": [
    "### Simple MLP Architecture"
   ]
  },
  {
   "cell_type": "code",
   "execution_count": 20,
   "metadata": {},
   "outputs": [
    {
     "name": "stdout",
     "output_type": "stream",
     "text": [
      "_________________________________________________________________\n",
      "Layer (type)                 Output Shape              Param #   \n",
      "=================================================================\n",
      "dense_10 (Dense)             (None, 256)               200960    \n",
      "_________________________________________________________________\n",
      "dropout_7 (Dropout)          (None, 256)               0         \n",
      "_________________________________________________________________\n",
      "dense_11 (Dense)             (None, 512)               131584    \n",
      "_________________________________________________________________\n",
      "dropout_8 (Dropout)          (None, 512)               0         \n",
      "_________________________________________________________________\n",
      "dense_12 (Dense)             (None, 10)                5130      \n",
      "=================================================================\n",
      "Total params: 337,674\n",
      "Trainable params: 337,674\n",
      "Non-trainable params: 0\n",
      "_________________________________________________________________\n"
     ]
    }
   ],
   "source": [
    "model = Sequential()\n",
    "\n",
    "model.add(Dense(256, activation='relu', input_shape=(784,)))\n",
    "model.add(Dropout(0.3))\n",
    "\n",
    "model.add(Dense(512, activation='relu'))\n",
    "model.add(Dropout(0.2))\n",
    "\n",
    "model.add(Dense(num_classes, activation='sigmoid'))\n",
    "\n",
    "model.summary()"
   ]
  },
  {
   "cell_type": "code",
   "execution_count": 21,
   "metadata": {},
   "outputs": [],
   "source": [
    "model.compile(loss='categorical_crossentropy',\n",
    "              optimizer='adam',\n",
    "              metrics=['accuracy'])"
   ]
  },
  {
   "cell_type": "markdown",
   "metadata": {},
   "source": [
    "### Training the model"
   ]
  },
  {
   "cell_type": "code",
   "execution_count": 22,
   "metadata": {},
   "outputs": [
    {
     "name": "stdout",
     "output_type": "stream",
     "text": [
      "Train on 60000 samples, validate on 10000 samples\n",
      "Epoch 1/15\n",
      "60000/60000 [==============================] - 7s 121us/step - loss: 0.3699 - acc: 0.8911 - val_loss: 0.1380 - val_acc: 0.9557\n",
      "Epoch 2/15\n",
      "60000/60000 [==============================] - 7s 109us/step - loss: 0.1539 - acc: 0.9523 - val_loss: 0.1035 - val_acc: 0.9676\n",
      "Epoch 3/15\n",
      "60000/60000 [==============================] - 7s 109us/step - loss: 0.1113 - acc: 0.9651 - val_loss: 0.0947 - val_acc: 0.9706\n",
      "Epoch 4/15\n",
      "60000/60000 [==============================] - 7s 109us/step - loss: 0.0885 - acc: 0.9720 - val_loss: 0.0828 - val_acc: 0.9738\n",
      "Epoch 5/15\n",
      "60000/60000 [==============================] - 7s 108us/step - loss: 0.0721 - acc: 0.9771 - val_loss: 0.0845 - val_acc: 0.9742\n",
      "Epoch 6/15\n",
      "60000/60000 [==============================] - 7s 110us/step - loss: 0.0642 - acc: 0.9799 - val_loss: 0.0890 - val_acc: 0.9739\n",
      "Epoch 7/15\n",
      "60000/60000 [==============================] - 7s 110us/step - loss: 0.0552 - acc: 0.9824 - val_loss: 0.0941 - val_acc: 0.9752\n",
      "Epoch 8/15\n",
      "60000/60000 [==============================] - 7s 112us/step - loss: 0.0476 - acc: 0.9843 - val_loss: 0.0861 - val_acc: 0.9764\n",
      "Epoch 9/15\n",
      "60000/60000 [==============================] - 7s 111us/step - loss: 0.0458 - acc: 0.9841 - val_loss: 0.0866 - val_acc: 0.9754\n",
      "Epoch 10/15\n",
      "60000/60000 [==============================] - 7s 116us/step - loss: 0.0433 - acc: 0.9860 - val_loss: 0.0842 - val_acc: 0.9779\n",
      "Epoch 11/15\n",
      "60000/60000 [==============================] - 8s 128us/step - loss: 0.0371 - acc: 0.9876 - val_loss: 0.0838 - val_acc: 0.9790\n",
      "Epoch 12/15\n",
      "60000/60000 [==============================] - 7s 123us/step - loss: 0.0352 - acc: 0.9888 - val_loss: 0.0898 - val_acc: 0.9779\n",
      "Epoch 13/15\n",
      "60000/60000 [==============================] - 7s 119us/step - loss: 0.0340 - acc: 0.9882 - val_loss: 0.0938 - val_acc: 0.9767\n",
      "Epoch 14/15\n",
      "60000/60000 [==============================] - 7s 113us/step - loss: 0.0330 - acc: 0.9885 - val_loss: 0.0892 - val_acc: 0.9786\n",
      "Epoch 15/15\n",
      "60000/60000 [==============================] - 7s 113us/step - loss: 0.0290 - acc: 0.9900 - val_loss: 0.0954 - val_acc: 0.9782\n"
     ]
    }
   ],
   "source": [
    "history = model.fit(x_train, y_train,\n",
    "                    batch_size=batch_size,\n",
    "                    epochs=epochs,\n",
    "                    verbose=1,\n",
    "                    validation_data=(x_test, y_test))"
   ]
  },
  {
   "cell_type": "markdown",
   "metadata": {},
   "source": [
    "### checking model accuracy and loss"
   ]
  },
  {
   "cell_type": "code",
   "execution_count": 23,
   "metadata": {
    "scrolled": true
   },
   "outputs": [
    {
     "data": {
      "image/png": "[encoded data removed]",
      "text/plain": [
       "<matplotlib.figure.Figure at 0x23684da2f28>"
      ]
     },
     "metadata": {},
     "output_type": "display_data"
    },
    {
     "data": {
      "image/png": "[encoded data removed]",
      "text/plain": [
       "<matplotlib.figure.Figure at 0x2368a081320>"
      ]
     },
     "metadata": {},
     "output_type": "display_data"
    }
   ],
   "source": [
    "#checking model loss and accuracy\n",
    "hdata = history.history \n",
    "\n",
    "from matplotlib import pyplot as plt\n",
    "%matplotlib inline\n",
    "\n",
    "plt.figure(0)\n",
    "plt.plot(hdata['loss'],'r')\n",
    "plt.plot(hdata['val_loss'],'g')\n",
    "\n",
    "plt.figure(1)\n",
    "plt.plot(hdata['acc'],'r')\n",
    "plt.plot(hdata['val_acc'],'g')\n",
    "\n",
    "plt.show()"
   ]
  },
  {
   "cell_type": "code",
   "execution_count": 24,
   "metadata": {},
   "outputs": [
    {
     "data": {
      "text/plain": [
       "array([[ 965,    1,    0,    1,    1,    1,    3,    1,    1,    6],\n",
       "       [   0, 1120,    4,    1,    1,    0,    4,    0,    5,    0],\n",
       "       [   1,    0, 1010,    3,    2,    0,    1,    5,   10,    0],\n",
       "       [   0,    0,    7,  983,    0,    3,    0,    5,    4,    8],\n",
       "       [   1,    0,    2,    0,  964,    0,    5,    3,    0,    7],\n",
       "       [   1,    0,    0,    7,    1,  870,    5,    1,    5,    2],\n",
       "       [   1,    2,    1,    1,    8,    4,  938,    0,    3,    0],\n",
       "       [   0,    4,    5,    2,    1,    0,    0, 1008,    1,    7],\n",
       "       [   1,    0,    0,    2,    7,    3,    1,    6,  950,    4],\n",
       "       [   1,    3,    0,    4,   15,    2,    1,    7,    2,  974]], dtype=int64)"
      ]
     },
     "execution_count": 24,
     "metadata": {},
     "output_type": "execute_result"
    }
   ],
   "source": [
    "#constructing confusion matrix:\n",
    "from sklearn.metrics import confusion_matrix\n",
    "\n",
    "prediction = model.predict(x_test)\n",
    "y_prediction=np.array([np.argmax(prediction[i]) for i in range(10000)])\n",
    "y_test = np.array([np.argmax(y_test[i]) for i in range(10000)])\n",
    "\n",
    "cm = confusion_matrix(y_test, y_prediction)\n",
    "cm"
   ]
  },
  {
   "cell_type": "markdown",
   "metadata": {},
   "source": [
    "### Since the model is giving good result on both testing and training set \n",
    "### we will save this model\n",
    "### and we will use it while deploying"
   ]
  },
  {
   "cell_type": "code",
   "execution_count": 26,
   "metadata": {
    "collapsed": true
   },
   "outputs": [],
   "source": [
    "#saving model\n",
    "model.save('trained_model/digit_classifier_mlp_1.h5')"
   ]
  }
 ],
 "metadata": {
  "kernelspec": {
   "display_name": "Python 3",
   "language": "python",
   "name": "python3"
  },
  "language_info": {
   "codemirror_mode": {
    "name": "ipython",
    "version": 3
   },
   "file_extension": ".py",
   "mimetype": "text/x-python",
   "name": "python",
   "nbconvert_exporter": "python",
   "pygments_lexer": "ipython3",
   "version": "3.5.4"
  }
 },
 "nbformat": 4,
 "nbformat_minor": 2
}
